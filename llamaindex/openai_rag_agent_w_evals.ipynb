{
 "cells": [
  {
   "cell_type": "markdown",
   "metadata": {},
   "source": [
    "# OpenAI Agent with LlamaIndex\n",
    "\n",
    "## Install Dependencies"
   ]
  },
  {
   "cell_type": "code",
   "execution_count": 37,
   "metadata": {},
   "outputs": [],
   "source": [
    "# !pip install uv\n",
    "# !uv pip install --system -qU llama-index==0.11.6 llama-index-llms-openai llama-index-readers-file llama-index-embeddings-openai llama-index-llms-openai-like \"openinference-instrumentation-llama-index>=2\" arize-phoenix python-dotenv"
   ]
  },
  {
   "cell_type": "code",
   "execution_count": 38,
   "metadata": {},
   "outputs": [
    {
     "name": "stderr",
     "output_type": "stream",
     "text": [
      "I0000 00:00:1731792304.028409     669 fork_posix.cc:75] Other threads are currently calling into gRPC, skipping fork() handlers\n"
     ]
    },
    {
     "name": "stdout",
     "output_type": "stream",
     "text": [
      "Collecting pyngrok\n",
      "  Downloading pyngrok-7.2.1-py3-none-any.whl.metadata (8.3 kB)\n",
      "Requirement already satisfied: PyYAML>=5.1 in /home/vscode/.local/lib/python3.12/site-packages (from pyngrok) (6.0.2)\n",
      "Downloading pyngrok-7.2.1-py3-none-any.whl (22 kB)\n",
      "Installing collected packages: pyngrok\n",
      "Successfully installed pyngrok-7.2.1\n"
     ]
    }
   ],
   "source": [
    "# !pip install flask twilio\n",
    "!pip install pyngrok\n"
   ]
  },
  {
   "cell_type": "markdown",
   "metadata": {},
   "source": [
    "## Setup API Keys\n"
   ]
  },
  {
   "cell_type": "code",
   "execution_count": 10,
   "metadata": {},
   "outputs": [],
   "source": [
    "from os import environ\n",
    "from dotenv import load_dotenv\n",
    "\n",
    "load_dotenv()\n",
    "\n",
    "OPENAI_API_KEY = environ[\"OPENAI_API_KEY\"]"
   ]
  },
  {
   "cell_type": "code",
   "execution_count": 40,
   "metadata": {},
   "outputs": [],
   "source": [
    "from os import environ\n",
    "from dotenv import load_dotenv\n",
    "\n",
    "load_dotenv()\n",
    "\n",
    "\n",
    "# Your Twilio credentials\n",
    "TWILIO_ACCOUNT_SID = environ[\"TWILIO_ACCOUNT_SID\"]\n",
    "TWILIO_AUTH_TOKEN = environ[\"TWILIO_AUTH_TOKEN\"]\n"
   ]
  },
  {
   "cell_type": "code",
   "execution_count": 41,
   "metadata": {},
   "outputs": [],
   "source": [
    "from flask import Flask, request\n",
    "from twilio.twiml.voice_response import VoiceResponse\n",
    "import threading\n",
    "from werkzeug.serving import make_server\n",
    "\n",
    "app = Flask(__name__)\n",
    "\n",
    "class ServerThread(threading.Thread):\n",
    "    def __init__(self, app):\n",
    "        threading.Thread.__init__(self)\n",
    "        self.server = make_server('127.0.0.1', 5000, app)\n",
    "        self.ctx = app.app_context()\n",
    "        self.ctx.push()\n",
    "\n",
    "    def run(self):\n",
    "        self.server.serve_forever()\n",
    "\n",
    "    def shutdown(self):\n",
    "        self.server.shutdown()"
   ]
  },
  {
   "cell_type": "code",
   "execution_count": 44,
   "metadata": {},
   "outputs": [
    {
     "name": "stdout",
     "output_type": "stream",
     "text": [
      "Server started!\n"
     ]
    },
    {
     "name": "stderr",
     "output_type": "stream",
     "text": [
      "127.0.0.1 - - [16/Nov/2024 21:32:34] \"GET / HTTP/1.1\" 404 -\n",
      "127.0.0.1 - - [16/Nov/2024 21:32:34] \"GET /favicon.ico HTTP/1.1\" 404 -\n"
     ]
    }
   ],
   "source": [
    "# Global variable to store server thread\n",
    "server_thread = None\n",
    "\n",
    "def start_server():\n",
    "    global server_thread\n",
    "    if server_thread is None:\n",
    "        server_thread = ServerThread(app)\n",
    "        server_thread.start()\n",
    "        print(\"Server started!\")\n",
    "\n",
    "def stop_server():\n",
    "    global server_thread\n",
    "    if server_thread is not None:\n",
    "        server_thread.shutdown()\n",
    "        server_thread = None\n",
    "        print(\"Server stopped!\")\n",
    "\n",
    "# Start the server\n",
    "start_server()"
   ]
  },
  {
   "cell_type": "code",
   "execution_count": null,
   "metadata": {},
   "outputs": [
    {
     "ename": "KeyError",
     "evalue": "'+18337041925'",
     "output_type": "error",
     "traceback": [
      "\u001b[0;31m---------------------------------------------------------------------------\u001b[0m",
      "\u001b[0;31mKeyError\u001b[0m                                  Traceback (most recent call last)",
      "Cell \u001b[0;32mIn[46], line 4\u001b[0m\n\u001b[1;32m      1\u001b[0m \u001b[38;5;66;03m# Make a test call\u001b[39;00m\n\u001b[1;32m      2\u001b[0m call \u001b[38;5;241m=\u001b[39m client\u001b[38;5;241m.\u001b[39mcalls\u001b[38;5;241m.\u001b[39mcreate(\n\u001b[1;32m      3\u001b[0m     to\u001b[38;5;241m=\u001b[39m\u001b[38;5;124m\"\u001b[39m\u001b[38;5;124m+15108474160\u001b[39m\u001b[38;5;124m\"\u001b[39m,  \u001b[38;5;66;03m# Your number from earlier\u001b[39;00m\n\u001b[0;32m----> 4\u001b[0m     from_\u001b[38;5;241m=\u001b[39m\u001b[43menviron\u001b[49m\u001b[43m[\u001b[49m\u001b[38;5;124;43m\"\u001b[39;49m\u001b[38;5;124;43m+18337041925\u001b[39;49m\u001b[38;5;124;43m\"\u001b[39;49m\u001b[43m]\u001b[49m,\n\u001b[1;32m      5\u001b[0m     url\u001b[38;5;241m=\u001b[39m\u001b[38;5;124m\"\u001b[39m\u001b[38;5;124mhttp://127.0.0.1:5000/answer\u001b[39m\u001b[38;5;124m\"\u001b[39m\n\u001b[1;32m      6\u001b[0m )\n\u001b[1;32m      7\u001b[0m \u001b[38;5;28mprint\u001b[39m(\u001b[38;5;124mf\u001b[39m\u001b[38;5;124m\"\u001b[39m\u001b[38;5;124mCall initiated with SID: \u001b[39m\u001b[38;5;132;01m{\u001b[39;00mcall\u001b[38;5;241m.\u001b[39msid\u001b[38;5;132;01m}\u001b[39;00m\u001b[38;5;124m\"\u001b[39m)\n",
      "File \u001b[0;32m<frozen os>:685\u001b[0m, in \u001b[0;36m__getitem__\u001b[0;34m(self, key)\u001b[0m\n",
      "\u001b[0;31mKeyError\u001b[0m: '+18337041925'"
     ]
    },
    {
     "ename": "",
     "evalue": "",
     "output_type": "error",
     "traceback": [
      "\u001b[1;31mThe Kernel crashed while executing code in the current cell or a previous cell. \n",
      "\u001b[1;31mPlease review the code in the cell(s) to identify a possible cause of the failure. \n",
      "\u001b[1;31mClick <a href='https://aka.ms/vscodeJupyterKernelCrash'>here</a> for more info. \n",
      "\u001b[1;31mView Jupyter <a href='command:jupyter.viewOutput'>log</a> for further details."
     ]
    }
   ],
   "source": [
    "# Make a test call\n",
    "call = client.calls.create(\n",
    "    to=\"+15108474160\",  # Your number from earlier\n",
    "    from_=environ[\"+18337041925\"],\n",
    "    url=\"http://127.0.0.1:5000/answer\"\n",
    ")\n",
    "print(f\"Call initiated with SID: {call.sid}\")"
   ]
  },
  {
   "cell_type": "markdown",
   "metadata": {},
   "source": [
    "## Import libraries and setup LlamaIndex"
   ]
  },
  {
   "cell_type": "code",
   "execution_count": 43,
   "metadata": {},
   "outputs": [
    {
     "ename": "AssertionError",
     "evalue": "View function mapping is overwriting an existing endpoint function: answer_call",
     "output_type": "error",
     "traceback": [
      "\u001b[0;31m---------------------------------------------------------------------------\u001b[0m",
      "\u001b[0;31mAssertionError\u001b[0m                            Traceback (most recent call last)",
      "Cell \u001b[0;32mIn[43], line 1\u001b[0m\n\u001b[0;32m----> 1\u001b[0m \u001b[38;5;129;43m@app\u001b[39;49m\u001b[38;5;241;43m.\u001b[39;49m\u001b[43mroute\u001b[49m\u001b[43m(\u001b[49m\u001b[38;5;124;43m\"\u001b[39;49m\u001b[38;5;124;43m/answer\u001b[39;49m\u001b[38;5;124;43m\"\u001b[39;49m\u001b[43m,\u001b[49m\u001b[43m \u001b[49m\u001b[43mmethods\u001b[49m\u001b[38;5;241;43m=\u001b[39;49m\u001b[43m[\u001b[49m\u001b[38;5;124;43m'\u001b[39;49m\u001b[38;5;124;43mPOST\u001b[39;49m\u001b[38;5;124;43m'\u001b[39;49m\u001b[43m]\u001b[49m\u001b[43m)\u001b[49m\n\u001b[1;32m      2\u001b[0m \u001b[38;5;28;43;01mdef\u001b[39;49;00m\u001b[43m \u001b[49m\u001b[38;5;21;43manswer_call\u001b[39;49m\u001b[43m(\u001b[49m\u001b[43m)\u001b[49m\u001b[43m:\u001b[49m\n\u001b[1;32m      3\u001b[0m \u001b[43m    \u001b[49m\u001b[43mresponse\u001b[49m\u001b[43m \u001b[49m\u001b[38;5;241;43m=\u001b[39;49m\u001b[43m \u001b[49m\u001b[43mVoiceResponse\u001b[49m\u001b[43m(\u001b[49m\u001b[43m)\u001b[49m\n\u001b[1;32m      4\u001b[0m \u001b[43m    \u001b[49m\u001b[43mspoken_text\u001b[49m\u001b[43m \u001b[49m\u001b[38;5;241;43m=\u001b[39;49m\u001b[43m \u001b[49m\u001b[43mrequest\u001b[49m\u001b[38;5;241;43m.\u001b[39;49m\u001b[43mvalues\u001b[49m\u001b[38;5;241;43m.\u001b[39;49m\u001b[43mget\u001b[49m\u001b[43m(\u001b[49m\u001b[38;5;124;43m'\u001b[39;49m\u001b[38;5;124;43mSpeechResult\u001b[39;49m\u001b[38;5;124;43m'\u001b[39;49m\u001b[43m,\u001b[49m\u001b[43m \u001b[49m\u001b[38;5;124;43m'\u001b[39;49m\u001b[38;5;124;43m'\u001b[39;49m\u001b[43m)\u001b[49m\n",
      "File \u001b[0;32m/usr/local/python/3.12.1/lib/python3.12/site-packages/flask/sansio/scaffold.py:362\u001b[0m, in \u001b[0;36mScaffold.route.<locals>.decorator\u001b[0;34m(f)\u001b[0m\n\u001b[1;32m    360\u001b[0m \u001b[38;5;28;01mdef\u001b[39;00m \u001b[38;5;21mdecorator\u001b[39m(f: T_route) \u001b[38;5;241m-\u001b[39m\u001b[38;5;241m>\u001b[39m T_route:\n\u001b[1;32m    361\u001b[0m     endpoint \u001b[38;5;241m=\u001b[39m options\u001b[38;5;241m.\u001b[39mpop(\u001b[38;5;124m\"\u001b[39m\u001b[38;5;124mendpoint\u001b[39m\u001b[38;5;124m\"\u001b[39m, \u001b[38;5;28;01mNone\u001b[39;00m)\n\u001b[0;32m--> 362\u001b[0m     \u001b[38;5;28;43mself\u001b[39;49m\u001b[38;5;241;43m.\u001b[39;49m\u001b[43madd_url_rule\u001b[49m\u001b[43m(\u001b[49m\u001b[43mrule\u001b[49m\u001b[43m,\u001b[49m\u001b[43m \u001b[49m\u001b[43mendpoint\u001b[49m\u001b[43m,\u001b[49m\u001b[43m \u001b[49m\u001b[43mf\u001b[49m\u001b[43m,\u001b[49m\u001b[43m \u001b[49m\u001b[38;5;241;43m*\u001b[39;49m\u001b[38;5;241;43m*\u001b[39;49m\u001b[43moptions\u001b[49m\u001b[43m)\u001b[49m\n\u001b[1;32m    363\u001b[0m     \u001b[38;5;28;01mreturn\u001b[39;00m f\n",
      "File \u001b[0;32m/usr/local/python/3.12.1/lib/python3.12/site-packages/flask/sansio/scaffold.py:47\u001b[0m, in \u001b[0;36msetupmethod.<locals>.wrapper_func\u001b[0;34m(self, *args, **kwargs)\u001b[0m\n\u001b[1;32m     45\u001b[0m \u001b[38;5;28;01mdef\u001b[39;00m \u001b[38;5;21mwrapper_func\u001b[39m(\u001b[38;5;28mself\u001b[39m: Scaffold, \u001b[38;5;241m*\u001b[39margs: t\u001b[38;5;241m.\u001b[39mAny, \u001b[38;5;241m*\u001b[39m\u001b[38;5;241m*\u001b[39mkwargs: t\u001b[38;5;241m.\u001b[39mAny) \u001b[38;5;241m-\u001b[39m\u001b[38;5;241m>\u001b[39m t\u001b[38;5;241m.\u001b[39mAny:\n\u001b[1;32m     46\u001b[0m     \u001b[38;5;28mself\u001b[39m\u001b[38;5;241m.\u001b[39m_check_setup_finished(f_name)\n\u001b[0;32m---> 47\u001b[0m     \u001b[38;5;28;01mreturn\u001b[39;00m \u001b[43mf\u001b[49m\u001b[43m(\u001b[49m\u001b[38;5;28;43mself\u001b[39;49m\u001b[43m,\u001b[49m\u001b[43m \u001b[49m\u001b[38;5;241;43m*\u001b[39;49m\u001b[43margs\u001b[49m\u001b[43m,\u001b[49m\u001b[43m \u001b[49m\u001b[38;5;241;43m*\u001b[39;49m\u001b[38;5;241;43m*\u001b[39;49m\u001b[43mkwargs\u001b[49m\u001b[43m)\u001b[49m\n",
      "File \u001b[0;32m/usr/local/python/3.12.1/lib/python3.12/site-packages/flask/sansio/app.py:657\u001b[0m, in \u001b[0;36mApp.add_url_rule\u001b[0;34m(self, rule, endpoint, view_func, provide_automatic_options, **options)\u001b[0m\n\u001b[1;32m    655\u001b[0m old_func \u001b[38;5;241m=\u001b[39m \u001b[38;5;28mself\u001b[39m\u001b[38;5;241m.\u001b[39mview_functions\u001b[38;5;241m.\u001b[39mget(endpoint)\n\u001b[1;32m    656\u001b[0m \u001b[38;5;28;01mif\u001b[39;00m old_func \u001b[38;5;129;01mis\u001b[39;00m \u001b[38;5;129;01mnot\u001b[39;00m \u001b[38;5;28;01mNone\u001b[39;00m \u001b[38;5;129;01mand\u001b[39;00m old_func \u001b[38;5;241m!=\u001b[39m view_func:\n\u001b[0;32m--> 657\u001b[0m     \u001b[38;5;28;01mraise\u001b[39;00m \u001b[38;5;167;01mAssertionError\u001b[39;00m(\n\u001b[1;32m    658\u001b[0m         \u001b[38;5;124m\"\u001b[39m\u001b[38;5;124mView function mapping is overwriting an existing\u001b[39m\u001b[38;5;124m\"\u001b[39m\n\u001b[1;32m    659\u001b[0m         \u001b[38;5;124mf\u001b[39m\u001b[38;5;124m\"\u001b[39m\u001b[38;5;124m endpoint function: \u001b[39m\u001b[38;5;132;01m{\u001b[39;00mendpoint\u001b[38;5;132;01m}\u001b[39;00m\u001b[38;5;124m\"\u001b[39m\n\u001b[1;32m    660\u001b[0m     )\n\u001b[1;32m    661\u001b[0m \u001b[38;5;28mself\u001b[39m\u001b[38;5;241m.\u001b[39mview_functions[endpoint] \u001b[38;5;241m=\u001b[39m view_func\n",
      "\u001b[0;31mAssertionError\u001b[0m: View function mapping is overwriting an existing endpoint function: answer_call"
     ]
    }
   ],
   "source": [
    "@app.route(\"/answer\", methods=['POST'])\n",
    "def answer_call():\n",
    "    response = VoiceResponse()\n",
    "    spoken_text = request.values.get('SpeechResult', '')\n",
    "    \n",
    "    if not spoken_text:\n",
    "        gather = response.gather(\n",
    "            input='speech',\n",
    "            action='/process_speech',\n",
    "            timeout=3,\n",
    "            language='en-US'\n",
    "        )\n",
    "        gather.say('Please ask your question about Rapamycin.')\n",
    "    else:\n",
    "        response.redirect('/process_speech')\n",
    "    \n",
    "    return str(response)\n",
    "\n",
    "@app.route(\"/process_speech\", methods=['POST'])\n",
    "def process_speech():\n",
    "    response = VoiceResponse()\n",
    "    spoken_text = request.values.get('SpeechResult', '')\n",
    "    \n",
    "    try:\n",
    "        agent_response = agent.chat(spoken_text)\n",
    "        tts_text = str(agent_response)\n",
    "        response.say(tts_text, voice='alice')\n",
    "        \n",
    "    except Exception as e:\n",
    "        response.say(\"I'm sorry, there was an error processing your request.\")\n",
    "        print(f\"Error: {str(e)}\")\n",
    "    \n",
    "    return str(response)\n",
    "\n",
    "@app.route(\"/call\", methods=['POST'])\n",
    "def make_call():\n",
    "    to_number = request.form['to']\n",
    "    \n",
    "    try:\n",
    "        call = client.calls.create(\n",
    "            to=to_number,\n",
    "            from_=environ[\"TWILIO_PHONE_NUMBER\"],  # Make sure this is in your .env\n",
    "            url=request.url_root + 'answer'\n",
    "        )\n",
    "        return f\"Call initiated with SID: {call.sid}\"\n",
    "    except Exception as e:\n",
    "        return f\"Error making call: {str(e)}\""
   ]
  },
  {
   "cell_type": "code",
   "execution_count": 11,
   "metadata": {},
   "outputs": [],
   "source": [
    "from llama_index.core import (\n",
    "    SimpleDirectoryReader,\n",
    "    VectorStoreIndex,\n",
    "    StorageContext,\n",
    "    load_index_from_storage,\n",
    ")\n",
    "from llama_index.core.tools import QueryEngineTool, ToolMetadata\n",
    "from llama_index.core.agent import ReActAgent\n",
    "from llama_index.llms.openai import OpenAI\n",
    "\n",
    "\n",
    "# Create an llm object to use for the QueryEngine and the ReActAgent\n",
    "llm = OpenAI(model=\"gpt-4\")"
   ]
  },
  {
   "cell_type": "code",
   "execution_count": null,
   "metadata": {},
   "outputs": [],
   "source": []
  },
  {
   "cell_type": "markdown",
   "metadata": {},
   "source": [
    "# Set up Phoenix"
   ]
  },
  {
   "cell_type": "code",
   "execution_count": 19,
   "metadata": {},
   "outputs": [
    {
     "name": "stderr",
     "output_type": "stream",
     "text": [
      "Existing running Phoenix instance detected! Shutting it down and starting a new instance...\n"
     ]
    },
    {
     "name": "stdout",
     "output_type": "stream",
     "text": [
      "🌍 To view the Phoenix app in your browser, visit http://localhost:6006/\n",
      "📖 For more information on how to use Phoenix, check out https://docs.arize.com/phoenix\n"
     ]
    }
   ],
   "source": [
    "import phoenix as px\n",
    "session = px.launch_app()"
   ]
  },
  {
   "cell_type": "code",
   "execution_count": 5,
   "metadata": {},
   "outputs": [
    {
     "name": "stdout",
     "output_type": "stream",
     "text": [
      "🔭 OpenTelemetry Tracing Details 🔭\n",
      "|  Phoenix Project: default\n",
      "|  Span Processor: SimpleSpanProcessor\n",
      "|  Collector Endpoint: localhost:4317\n",
      "|  Transport: gRPC\n",
      "|  Transport Headers: {'user-agent': '****'}\n",
      "|  \n",
      "|  Using a default SpanProcessor. `add_span_processor` will overwrite this default.\n",
      "|  \n",
      "|  `register` has set this TracerProvider as the global OpenTelemetry default.\n",
      "|  To disable this behavior, call `register` with `set_global_tracer_provider=False`.\n",
      "\n"
     ]
    }
   ],
   "source": [
    "from openinference.instrumentation.llama_index import LlamaIndexInstrumentor\n",
    "from phoenix.otel import register\n",
    "\n",
    "tracer_provider = register()\n",
    "LlamaIndexInstrumentor().instrument(tracer_provider=tracer_provider)"
   ]
  },
  {
   "cell_type": "markdown",
   "metadata": {},
   "source": [
    "## Load Documents"
   ]
  },
  {
   "cell_type": "code",
   "execution_count": 20,
   "metadata": {},
   "outputs": [],
   "source": [
    "try:\n",
    "    storage_context = StorageContext.from_defaults(\n",
    "        persist_dir=\"./storage/sorge\"\n",
    "    )\n",
    "    lyft_index = load_index_from_storage(storage_context)\n",
    "\n",
    "    storage_context = StorageContext.from_defaults(\n",
    "        persist_dir=\"./storage/fischer\"\n",
    "    )\n",
    "    uber_index = load_index_from_storage(storage_context)\n",
    "\n",
    "    index_loaded = True\n",
    "except:\n",
    "    index_loaded = False"
   ]
  },
  {
   "cell_type": "markdown",
   "metadata": {},
   "source": [
    "This is the point we create our vector indexes, by calculating the embedding vectors for each of the chunks. You only need to run this once."
   ]
  },
  {
   "cell_type": "code",
   "execution_count": 21,
   "metadata": {},
   "outputs": [
    {
     "name": "stderr",
     "output_type": "stream",
     "text": [
      "Parsing nodes: 100%|██████████| 71/71 [00:00<00:00, 448.02it/s]\n",
      "Generating embeddings: 100%|██████████| 71/71 [00:00<00:00, 84.89it/s]\n"
     ]
    }
   ],
   "source": [
    "if not index_loaded:\n",
    "    # load data\n",
    "    sorge_docs = SimpleDirectoryReader(\n",
    "        input_files=[\"./10k/rapa_sorge_2014.pdf\"]\n",
    "    ).load_data()\n",
    "    fischer_docs = SimpleDirectoryReader(\n",
    "        input_files=[\"./10k/rapa_fischer_2015.pdf\"]\n",
    "    ).load_data()\n",
    "\n",
    "    # build index\n",
    "    sorge_index = VectorStoreIndex.from_documents(sorge_docs, show_progress=True)\n",
    "    fischer_index = VectorStoreIndex.from_documents(fischer_docs, swow_progress=True)\n",
    "\n",
    "    # persist index\n",
    "    sorge_index.storage_context.persist(persist_dir=\"./storage/sorge\")\n",
    "    fischer_index.storage_context.persist(persist_dir=\"./storage/fischer\")"
   ]
  },
  {
   "cell_type": "markdown",
   "metadata": {},
   "source": [
    "Now create the query engines."
   ]
  },
  {
   "cell_type": "code",
   "execution_count": 22,
   "metadata": {},
   "outputs": [],
   "source": [
    "sorge_engine = sorge_index.as_query_engine(similarity_top_k=3, llm=llm)\n",
    "fischer_engine = fischer_index.as_query_engine(similarity_top_k=3, llm=llm)"
   ]
  },
  {
   "cell_type": "markdown",
   "metadata": {},
   "source": [
    "We can now define the query engines as tools that will be used by the agent.\n",
    "\n",
    "As there is a query engine per document we need to also define one tool for each of them."
   ]
  },
  {
   "cell_type": "code",
   "execution_count": 23,
   "metadata": {},
   "outputs": [],
   "source": [
    "query_engine_tools = [\n",
    "    QueryEngineTool(\n",
    "        query_engine=sorge_engine,\n",
    "        metadata=ToolMetadata(\n",
    "            name=\"sorge_10k\",\n",
    "            description=(\n",
    "                \"Provides information about Rapamycin according to Sorge 2014 science paper. \"\n",
    "                \"Use a detailed plain text question as input to the tool.\"\n",
    "            ),\n",
    "        ),\n",
    "    ),\n",
    "    QueryEngineTool(\n",
    "        query_engine=fischer_engine,\n",
    "        metadata=ToolMetadata(\n",
    "            name=\"fischer_10k\",\n",
    "            description=(\n",
    "                \"Provides information about Rapamycin according to Fischer 2015 science paper. \"\n",
    "                \"Use a detailed plain text question as input to the tool.\"\n",
    "            ),\n",
    "        ),\n",
    "    ),\n",
    "]"
   ]
  },
  {
   "cell_type": "markdown",
   "metadata": {},
   "source": [
    "## Creating the Agent\n",
    "Now we have all the elements to create a LlamaIndex ReactAgent"
   ]
  },
  {
   "cell_type": "code",
   "execution_count": 24,
   "metadata": {},
   "outputs": [],
   "source": [
    "agent = ReActAgent.from_tools(\n",
    "    query_engine_tools,\n",
    "    llm=llm,\n",
    "    verbose=True,\n",
    "    max_turns=10,\n",
    ")"
   ]
  },
  {
   "cell_type": "markdown",
   "metadata": {},
   "source": [
    "Now we can interact with the agent and ask a question."
   ]
  },
  {
   "cell_type": "code",
   "execution_count": 26,
   "metadata": {},
   "outputs": [
    {
     "name": "stdout",
     "output_type": "stream",
     "text": [
      "> Running step 266f1145-e90f-4870-ab15-d59d53663e76. Step input: What type of extrapolation can you make about Rapamycin from the two scientific articles?\n",
      "\u001b[1;3;38;5;200mThought: The user is asking for an extrapolation from the two scientific articles. I need to use both tools to gather information from the Sorge 2014 and Fischer 2015 papers.\n",
      "Action: sorge_10k\n",
      "Action Input: {'input': 'What information can be extrapolated about Rapamycin from the Sorge 2014 paper?'}\n",
      "\u001b[0m\u001b[1;3;34mObservation: The Sorge 2014 paper investigates the effects of long-term rapamycin supplementation on a cancer model. The study found that there were no significant differences in ACF formation in the colon of both young and old mice when compared to the controls. The study also found that rapamycin works by downregulating the activity of mTORC1, as evidenced by significant differences in the levels of p-S6K and 4-EBP1, which are direct targets of mTOR phosphorylation. However, in old mice, there was an increase in the expression levels of 4-EBP1, which could be due to aging or an environmental influence that rapamycin has on the cell. The study also found a reverse profile with REDD1 expression in old mice, which needs further investigation. In young mice, rapamycin seemed to relieve the responsibility of REDD1. The study also investigated amino acid level sensitivity through analysis of IPMK, but found no significant difference in young mice. The paper suggests that long-term supplementation of rapamycin provides a protective mechanism against cancer and influences many cellular processes involved in cancer.\n",
      "\u001b[0m> Running step 8faebd34-4c4c-4d53-ba50-e718840261b5. Step input: None\n",
      "\u001b[1;3;38;5;200mThought: Now that I have information from the Sorge 2014 paper, I need to use the second tool to gather information from the Fischer 2015 paper.\n",
      "Action: fischer_10k\n",
      "Action Input: {'input': 'What information can be extrapolated about Rapamycin from the Fischer 2015 paper?'}\n",
      "\u001b[0m\u001b[1;3;34mObservation: The Fischer 2015 paper discusses the effects of long-term Rapamycin treatment on mouse health. The study found that Rapamycin, an mTOR inhibitor, improved some health parameters, left others unchanged, and negatively affected at least one (male rotarod performance). Some of the negative side effects reported in shorter-term Rapamycin feeding studies include testicular atrophy, accelerated cataract formation, and glucose insensitivity. The study also found that the effects of Rapamycin treatment were highly sex-specific, with significant differences observed between males and females. Furthermore, the study noted that the direction of phenotypic change due to Rapamycin treatment differed between males and females in measures of body mass, percent fat, and resting metabolic rate.\n",
      "\u001b[0m> Running step fee0f0a9-5a7d-46a5-9ec5-27ce98d68c75. Step input: None\n",
      "\u001b[1;3;38;5;200mThought: I can answer without using any more tools. I'll use the user's language to answer.\n",
      "Answer: The Sorge 2014 and Fischer 2015 papers provide insights into the effects of Rapamycin. The Sorge 2014 paper suggests that long-term supplementation of Rapamycin provides a protective mechanism against cancer and influences many cellular processes involved in cancer. It works by downregulating the activity of mTORC1, as evidenced by significant differences in the levels of p-S6K and 4-EBP1, which are direct targets of mTOR phosphorylation. \n",
      "\n",
      "On the other hand, the Fischer 2015 paper discusses the effects of long-term Rapamycin treatment on mouse health. It found that Rapamycin improved some health parameters, left others unchanged, and negatively affected at least one (male rotarod performance). Some of the negative side effects reported in shorter-term Rapamycin feeding studies include testicular atrophy, accelerated cataract formation, and glucose insensitivity. The effects of Rapamycin treatment were highly sex-specific, with significant differences observed between males and females. \n",
      "\n",
      "In conclusion, while Rapamycin has potential benefits such as a protective mechanism against cancer, it also has potential side effects and its effects can vary significantly depending on factors such as sex.\n",
      "\u001b[0mThe Sorge 2014 and Fischer 2015 papers provide insights into the effects of Rapamycin. The Sorge 2014 paper suggests that long-term supplementation of Rapamycin provides a protective mechanism against cancer and influences many cellular processes involved in cancer. It works by downregulating the activity of mTORC1, as evidenced by significant differences in the levels of p-S6K and 4-EBP1, which are direct targets of mTOR phosphorylation. \n",
      "\n",
      "On the other hand, the Fischer 2015 paper discusses the effects of long-term Rapamycin treatment on mouse health. It found that Rapamycin improved some health parameters, left others unchanged, and negatively affected at least one (male rotarod performance). Some of the negative side effects reported in shorter-term Rapamycin feeding studies include testicular atrophy, accelerated cataract formation, and glucose insensitivity. The effects of Rapamycin treatment were highly sex-specific, with significant differences observed between males and females. \n",
      "\n",
      "In conclusion, while Rapamycin has potential benefits such as a protective mechanism against cancer, it also has potential side effects and its effects can vary significantly depending on factors such as sex.\n"
     ]
    }
   ],
   "source": [
    "response = agent.chat(\"What type of extrapolation can you make about Rapamycin from the two scientific articles?\")\n",
    "print(str(response))"
   ]
  },
  {
   "cell_type": "code",
   "execution_count": 34,
   "metadata": {},
   "outputs": [],
   "source": [
    "from twilio.rest import Client"
   ]
  },
  {
   "cell_type": "code",
   "execution_count": 36,
   "metadata": {},
   "outputs": [
    {
     "name": "stdout",
     "output_type": "stream",
     "text": [
      "CAd19402b500b7bffe9a0e3dbbc35f1595\n"
     ]
    }
   ],
   "source": [
    "call = client.calls.create(\n",
    "  url=\"http://demo.twilio.com/docs/voice.xml\",\n",
    "  to=\"+15108474160\",\n",
    "  from_=\"+18337041925\"\n",
    ")\n",
    "\n",
    "print(call.sid)"
   ]
  },
  {
   "cell_type": "code",
   "execution_count": 35,
   "metadata": {},
   "outputs": [
    {
     "ename": "AssertionError",
     "evalue": "View function mapping is overwriting an existing endpoint function: answer_call",
     "output_type": "error",
     "traceback": [
      "\u001b[0;31m---------------------------------------------------------------------------\u001b[0m",
      "\u001b[0;31mAssertionError\u001b[0m                            Traceback (most recent call last)",
      "Cell \u001b[0;32mIn[35], line 1\u001b[0m\n\u001b[0;32m----> 1\u001b[0m \u001b[38;5;129;43m@app\u001b[39;49m\u001b[38;5;241;43m.\u001b[39;49m\u001b[43mroute\u001b[49m\u001b[43m(\u001b[49m\u001b[38;5;124;43m\"\u001b[39;49m\u001b[38;5;124;43m/answer\u001b[39;49m\u001b[38;5;124;43m\"\u001b[39;49m\u001b[43m,\u001b[49m\u001b[43m \u001b[49m\u001b[43mmethods\u001b[49m\u001b[38;5;241;43m=\u001b[39;49m\u001b[43m[\u001b[49m\u001b[38;5;124;43m'\u001b[39;49m\u001b[38;5;124;43mPOST\u001b[39;49m\u001b[38;5;124;43m'\u001b[39;49m\u001b[43m]\u001b[49m\u001b[43m)\u001b[49m\n\u001b[1;32m      2\u001b[0m \u001b[38;5;28;43;01mdef\u001b[39;49;00m\u001b[43m \u001b[49m\u001b[38;5;21;43manswer_call\u001b[39;49m\u001b[43m(\u001b[49m\u001b[43m)\u001b[49m\u001b[43m:\u001b[49m\n\u001b[1;32m      3\u001b[0m \u001b[38;5;250;43m    \u001b[39;49m\u001b[38;5;124;43;03m\"\"\"Handle incoming calls and generate TwiML response\"\"\"\u001b[39;49;00m\n\u001b[1;32m      4\u001b[0m \u001b[43m    \u001b[49m\u001b[38;5;66;43;03m# Create TwiML response object\u001b[39;49;00m\n",
      "File \u001b[0;32m/usr/local/python/3.12.1/lib/python3.12/site-packages/flask/sansio/scaffold.py:362\u001b[0m, in \u001b[0;36mScaffold.route.<locals>.decorator\u001b[0;34m(f)\u001b[0m\n\u001b[1;32m    360\u001b[0m \u001b[38;5;28;01mdef\u001b[39;00m \u001b[38;5;21mdecorator\u001b[39m(f: T_route) \u001b[38;5;241m-\u001b[39m\u001b[38;5;241m>\u001b[39m T_route:\n\u001b[1;32m    361\u001b[0m     endpoint \u001b[38;5;241m=\u001b[39m options\u001b[38;5;241m.\u001b[39mpop(\u001b[38;5;124m\"\u001b[39m\u001b[38;5;124mendpoint\u001b[39m\u001b[38;5;124m\"\u001b[39m, \u001b[38;5;28;01mNone\u001b[39;00m)\n\u001b[0;32m--> 362\u001b[0m     \u001b[38;5;28;43mself\u001b[39;49m\u001b[38;5;241;43m.\u001b[39;49m\u001b[43madd_url_rule\u001b[49m\u001b[43m(\u001b[49m\u001b[43mrule\u001b[49m\u001b[43m,\u001b[49m\u001b[43m \u001b[49m\u001b[43mendpoint\u001b[49m\u001b[43m,\u001b[49m\u001b[43m \u001b[49m\u001b[43mf\u001b[49m\u001b[43m,\u001b[49m\u001b[43m \u001b[49m\u001b[38;5;241;43m*\u001b[39;49m\u001b[38;5;241;43m*\u001b[39;49m\u001b[43moptions\u001b[49m\u001b[43m)\u001b[49m\n\u001b[1;32m    363\u001b[0m     \u001b[38;5;28;01mreturn\u001b[39;00m f\n",
      "File \u001b[0;32m/usr/local/python/3.12.1/lib/python3.12/site-packages/flask/sansio/scaffold.py:47\u001b[0m, in \u001b[0;36msetupmethod.<locals>.wrapper_func\u001b[0;34m(self, *args, **kwargs)\u001b[0m\n\u001b[1;32m     45\u001b[0m \u001b[38;5;28;01mdef\u001b[39;00m \u001b[38;5;21mwrapper_func\u001b[39m(\u001b[38;5;28mself\u001b[39m: Scaffold, \u001b[38;5;241m*\u001b[39margs: t\u001b[38;5;241m.\u001b[39mAny, \u001b[38;5;241m*\u001b[39m\u001b[38;5;241m*\u001b[39mkwargs: t\u001b[38;5;241m.\u001b[39mAny) \u001b[38;5;241m-\u001b[39m\u001b[38;5;241m>\u001b[39m t\u001b[38;5;241m.\u001b[39mAny:\n\u001b[1;32m     46\u001b[0m     \u001b[38;5;28mself\u001b[39m\u001b[38;5;241m.\u001b[39m_check_setup_finished(f_name)\n\u001b[0;32m---> 47\u001b[0m     \u001b[38;5;28;01mreturn\u001b[39;00m \u001b[43mf\u001b[49m\u001b[43m(\u001b[49m\u001b[38;5;28;43mself\u001b[39;49m\u001b[43m,\u001b[49m\u001b[43m \u001b[49m\u001b[38;5;241;43m*\u001b[39;49m\u001b[43margs\u001b[49m\u001b[43m,\u001b[49m\u001b[43m \u001b[49m\u001b[38;5;241;43m*\u001b[39;49m\u001b[38;5;241;43m*\u001b[39;49m\u001b[43mkwargs\u001b[49m\u001b[43m)\u001b[49m\n",
      "File \u001b[0;32m/usr/local/python/3.12.1/lib/python3.12/site-packages/flask/sansio/app.py:657\u001b[0m, in \u001b[0;36mApp.add_url_rule\u001b[0;34m(self, rule, endpoint, view_func, provide_automatic_options, **options)\u001b[0m\n\u001b[1;32m    655\u001b[0m old_func \u001b[38;5;241m=\u001b[39m \u001b[38;5;28mself\u001b[39m\u001b[38;5;241m.\u001b[39mview_functions\u001b[38;5;241m.\u001b[39mget(endpoint)\n\u001b[1;32m    656\u001b[0m \u001b[38;5;28;01mif\u001b[39;00m old_func \u001b[38;5;129;01mis\u001b[39;00m \u001b[38;5;129;01mnot\u001b[39;00m \u001b[38;5;28;01mNone\u001b[39;00m \u001b[38;5;129;01mand\u001b[39;00m old_func \u001b[38;5;241m!=\u001b[39m view_func:\n\u001b[0;32m--> 657\u001b[0m     \u001b[38;5;28;01mraise\u001b[39;00m \u001b[38;5;167;01mAssertionError\u001b[39;00m(\n\u001b[1;32m    658\u001b[0m         \u001b[38;5;124m\"\u001b[39m\u001b[38;5;124mView function mapping is overwriting an existing\u001b[39m\u001b[38;5;124m\"\u001b[39m\n\u001b[1;32m    659\u001b[0m         \u001b[38;5;124mf\u001b[39m\u001b[38;5;124m\"\u001b[39m\u001b[38;5;124m endpoint function: \u001b[39m\u001b[38;5;132;01m{\u001b[39;00mendpoint\u001b[38;5;132;01m}\u001b[39;00m\u001b[38;5;124m\"\u001b[39m\n\u001b[1;32m    660\u001b[0m     )\n\u001b[1;32m    661\u001b[0m \u001b[38;5;28mself\u001b[39m\u001b[38;5;241m.\u001b[39mview_functions[endpoint] \u001b[38;5;241m=\u001b[39m view_func\n",
      "\u001b[0;31mAssertionError\u001b[0m: View function mapping is overwriting an existing endpoint function: answer_call"
     ]
    }
   ],
   "source": [
    "@app.route(\"/answer\", methods=['POST'])\n",
    "def answer_call():\n",
    "    \"\"\"Handle incoming calls and generate TwiML response\"\"\"\n",
    "    # Create TwiML response object\n",
    "    response = VoiceResponse()\n",
    "    \n",
    "    # Get the spoken text from the call\n",
    "    spoken_text = request.values.get('SpeechResult', '')\n",
    "    \n",
    "    if not spoken_text:\n",
    "        # If no speech detected, prompt the user to speak\n",
    "        gather = response.gather(\n",
    "            input='speech',\n",
    "            action='/process_speech',\n",
    "            timeout=3,\n",
    "            language='en-US'\n",
    "        )\n",
    "        gather.say('Please ask your question about Rapamycin.')\n",
    "    else:\n",
    "        # Forward to processing endpoint\n",
    "        response.redirect('/process_speech')\n",
    "    \n",
    "    return str(response)\n",
    "\n",
    "@app.route(\"/process_speech\", methods=['POST'])\n",
    "def process_speech():\n",
    "    \"\"\"Process the speech and get response from agent\"\"\"\n",
    "    # Create TwiML response object\n",
    "    response = VoiceResponse()\n",
    "    \n",
    "    # Get the spoken text\n",
    "    spoken_text = request.values.get('SpeechResult', '')\n",
    "    \n",
    "    try:\n",
    "        # Get response from your agent\n",
    "        agent_response = agent.chat(spoken_text)\n",
    "        \n",
    "        # Convert agent response to string and clean up if needed\n",
    "        tts_text = str(agent_response)\n",
    "        \n",
    "        # Have Twilio speak the response\n",
    "        response.say(tts_text, voice='alice')\n",
    "        \n",
    "    except Exception as e:\n",
    "        # Handle any errors\n",
    "        response.say(\"I'm sorry, there was an error processing your request.\")\n",
    "        print(f\"Error: {str(e)}\")\n",
    "    \n",
    "    return str(response)\n",
    "\n",
    "@app.route(\"/call\", methods=['POST'])\n",
    "def make_call():\n",
    "    \"\"\"Initiate a call to a specified number\"\"\"\n",
    "    to_number = request.form['to']\n",
    "    \n",
    "    try:\n",
    "        call = client.calls.create(\n",
    "            to=to_number,\n",
    "            from_='your_twilio_phone_number',\n",
    "            url=request.url_root + 'answer'\n",
    "        )\n",
    "        return f\"Call initiated with SID: {call.sid}\"\n",
    "    except Exception as e:\n",
    "        return f\"Error making call: {str(e)}\"\n",
    "\n",
    "if __name__ == \"__main__\":\n",
    "    app.run(debug=True)"
   ]
  },
  {
   "cell_type": "code",
   "execution_count": null,
   "metadata": {},
   "outputs": [],
   "source": []
  }
 ],
 "metadata": {
  "kernelspec": {
   "display_name": "Python 3",
   "language": "python",
   "name": "python3"
  },
  "language_info": {
   "codemirror_mode": {
    "name": "ipython",
    "version": 3
   },
   "file_extension": ".py",
   "mimetype": "text/x-python",
   "name": "python",
   "nbconvert_exporter": "python",
   "pygments_lexer": "ipython3",
   "version": "3.12.1"
  }
 },
 "nbformat": 4,
 "nbformat_minor": 2
}
